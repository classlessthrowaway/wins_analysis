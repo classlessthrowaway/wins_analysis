{
 "cells": [
  {
   "cell_type": "code",
   "execution_count": null,
   "id": "72d17e77",
   "metadata": {},
   "outputs": [],
   "source": [
    "import pandas as pd\n",
    "import numpy as np\n",
    "from sklearn import linear_model\n",
    "from sklearn.linear_model import LinearRegression\n",
    "import statsmodels.api as sm\n",
    "from scipy import stats\n",
    "import matplotlib.pyplot as plt"
   ]
  },
  {
   "cell_type": "code",
   "execution_count": null,
   "id": "a7275377",
   "metadata": {},
   "outputs": [],
   "source": [
    "## Load in data from CSV\n",
    "## Data contains four columns, team name, year, wins, and payroll\n",
    "## only the final two make it into the model - I'm not looking for the impact of team names or years\n",
    "## dollars are in millions rounded to the nearest million - example: 183.4 is 183\n",
    "data = pd.read_csv(\"<YOUR PATHWAY>/wins_analysis/data/wins_dollars_data.csv\")\n",
    "dollars = np.array(data['Dollars'])\n",
    "wins = np.array(data['Wins'])"
   ]
  },
  {
   "cell_type": "code",
   "execution_count": null,
   "id": "609bdbaa",
   "metadata": {},
   "outputs": [],
   "source": [
    "# Wins are slightly less than 81 because a few games weren't played due to rainouts and schedules\n",
    "# The difference is not significant enough to have a tangible impact on the model\n",
    "dollars.mean(), wins.mean()"
   ]
  },
  {
   "cell_type": "code",
   "execution_count": null,
   "id": "e7939442",
   "metadata": {},
   "outputs": [],
   "source": [
    "# Let's look at a plot of the values\n",
    "# Our x variable, or the independent variable, is going to be dollars\n",
    "# Consequently, the y variable will be wins, since we are trying to predict wins based on dollars\n",
    "font_title = {'fontsize': 16}\n",
    "font_axes = {'fontsize': 14}\n",
    "plt.scatter(dollars, wins)\n",
    "plt.xlim([0,dollars.max() + 10])\n",
    "plt.ylim([0, wins.max() + 5])\n",
    "plt.title(\"Payroll Dollars spent versus Total Wins\",font_title)\n",
    "plt.xlabel(\"Payroll Dollars\", font_axes)\n",
    "plt.ylabel(\"Total Wins\", font_axes)\n",
    "plt.savefig(\"<YOUR PATHWAY>/wins_analysis/data/dollars_wins_plot.png\")\n",
    "plt.show()"
   ]
  },
  {
   "cell_type": "code",
   "execution_count": null,
   "id": "d4b6ad67",
   "metadata": {},
   "outputs": [],
   "source": [
    "# model passes all test for statistical signficance\n",
    "# the results are pretty weak - each $1M corresponds to 0.09 more wins - yikes\n",
    "# The R-squared is pretty brutal as well - 0.116 is not good, that means 89% of the variance is from other factors\n",
    "dollars_x = sm.add_constant(dollars)\n",
    "est = sm.OLS(wins,dollars_x)\n",
    "est_fit = est.fit()\n",
    "print(est_fit.summary())"
   ]
  },
  {
   "cell_type": "markdown",
   "id": "b5ec9363",
   "metadata": {},
   "source": [
    "### Key Points\n",
    "1. Model Validation\n",
    "2. P-values\n",
    "3. Coefficients\n",
    "4. R-squared\n",
    "\n",
    "#### Model Validation\n",
    "\n",
    "The F-statistic for this model is slightly larger than zero, which means the model is valid. Passing this test means we can continue to analyze the remaining outputs.\n",
    "\n",
    "### P-values\n",
    "\n",
    "There are two variables in this model that determine the outputs, const and x1. \"const\" is a constant that does not change regardless of the dollars spent, it's p-value is 0.000, which means it's incredibly small and passes the test for statistical significance. \"x1\" is dollars spent on the payroll, which is also 0.000, therefore the same conclusion applies.\n",
    "\n",
    "### Coefficients\n",
    "\n",
    "The coefficient for the constant is a little strange - according to this model, if a team spent no money they would win 68 games. In practice we know this is cannot occur because spending no money means either 1) the team did not play due to lockout, COVID-19, etc. or 2) the team folded and does not exist. This model can still be accurate for observations that may occur, such as teams spending at least \\$40M on payroll.\n",
    "\n",
    "The x1 coefficient, or dollars spent, is 0.969 (nice). This means that for each one million dollars spent a team expects less than 1/10th of a win. Let's look at an example to add context. If a team spent \\$100M on payroll, this model looks like the following : 100x0.0969 + 68.08 = 77.77 wins. That seems pretty reasonable given the plot above.\n",
    "\n",
    "### R-squared\n",
    "\n",
    "R-squared calculates the variance explained by the data in the model. Models with a low R-squared are generally regarded as poor because it means that the independent variable (dollars spent) does not explain the variance in the dependent variable (wins). In this model the R-squared is 11.6% (shown as 0.116 above). In non-statistics english, this means that 11.6% of the variance in wins is explained by dollars, and 88.4% of the variance in wins is explained by data that is not in the model.\n",
    "\n",
    "## Conclusion\n",
    "\n",
    "Spending and wins have a weak connection. The low R-squared suggests that a teams payroll is a poor predictor of season-long success. An increase in payroll does not necessarily imply that a team will win more games because 88.4% of the variance in wins comes from data not included in the model."
   ]
  },
  {
   "cell_type": "code",
   "execution_count": null,
   "id": "e9b7579c",
   "metadata": {},
   "outputs": [],
   "source": []
  }
 ],
 "metadata": {
  "kernelspec": {
   "display_name": "Python 3",
   "language": "python",
   "name": "python3"
  },
  "language_info": {
   "codemirror_mode": {
    "name": "ipython",
    "version": 3
   },
   "file_extension": ".py",
   "mimetype": "text/x-python",
   "name": "python",
   "nbconvert_exporter": "python",
   "pygments_lexer": "ipython3",
   "version": "3.8.8"
  }
 },
 "nbformat": 4,
 "nbformat_minor": 5
}
